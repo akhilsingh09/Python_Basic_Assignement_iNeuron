{
  "nbformat": 4,
  "nbformat_minor": 0,
  "metadata": {
    "colab": {
      "provenance": []
    },
    "kernelspec": {
      "name": "python3",
      "display_name": "Python 3"
    },
    "language_info": {
      "name": "python"
    }
  },
  "cells": [
    {
      "cell_type": "markdown",
      "source": [
        "1. What exactly is []?"
      ],
      "metadata": {
        "id": "Om0Pni_okAvK"
      }
    },
    {
      "cell_type": "markdown",
      "source": [
        "> [] is an empty list. It is an ordered collection of items, which can be of different data types. It can be used to store data such as strings, integers, floats, and other data types.\n",
        "\n",
        "\n",
        "\n",
        "\n"
      ],
      "metadata": {
        "id": "sv-Eo4RukEg6"
      }
    },
    {
      "cell_type": "markdown",
      "source": [
        "2. In a list of values stored in a variable called spam, how would you assign the value 'hello' as the third value? (Assume [2, 4, 6, 8, 10] are in spam.)"
      ],
      "metadata": {
        "id": "UR3If92xkdvu"
      }
    },
    {
      "cell_type": "code",
      "execution_count": 1,
      "metadata": {
        "colab": {
          "base_uri": "https://localhost:8080/",
          "height": 0
        },
        "id": "ko_z_YokjyZw",
        "outputId": "903a03f2-f5d1-4597-fb61-f3b722d00ca3"
      },
      "outputs": [
        {
          "output_type": "stream",
          "name": "stdout",
          "text": [
            "[2, 4, 'hello', 8, 10]\n"
          ]
        }
      ],
      "source": [
        "spam = [2,4,6,8,10]\n",
        "spam[2] = 'hello'\n",
        "print(spam)"
      ]
    },
    {
      "cell_type": "markdown",
      "source": [
        "##**Let's pretend the spam includes the list ['a', 'b', 'c', 'd'] for the next three queries.**"
      ],
      "metadata": {
        "id": "eiEMaR1SlAfi"
      }
    },
    {
      "cell_type": "code",
      "source": [
        "spam = ['a','b','c','d']"
      ],
      "metadata": {
        "id": "gT0EBnwTk3eU"
      },
      "execution_count": 2,
      "outputs": []
    },
    {
      "cell_type": "markdown",
      "source": [
        "3. What is the value of spam[int(int('3' * 2) / 11)]?"
      ],
      "metadata": {
        "id": "h8mJlD3zlKNr"
      }
    },
    {
      "cell_type": "markdown",
      "source": [
        "\n",
        "\n",
        "> Value of int('3' * 2) --> 33 then\n",
        "\n",
        "\n",
        "> Value of int(int('3' * 2)/11) --> 3\n",
        "\n",
        "\n",
        "> Therefore spam[3] = 'd'\n",
        "\n",
        "\n",
        "\n",
        "\n",
        "\n"
      ],
      "metadata": {
        "id": "426rpByjl53G"
      }
    },
    {
      "cell_type": "code",
      "source": [
        "spam[int(int('3' * 2)/11) ]"
      ],
      "metadata": {
        "colab": {
          "base_uri": "https://localhost:8080/",
          "height": 35
        },
        "id": "IWyslEXilXkh",
        "outputId": "d86582e2-5e20-40da-f3d4-bcfc469655b4"
      },
      "execution_count": 9,
      "outputs": [
        {
          "output_type": "execute_result",
          "data": {
            "text/plain": [
              "'d'"
            ],
            "application/vnd.google.colaboratory.intrinsic+json": {
              "type": "string"
            }
          },
          "metadata": {},
          "execution_count": 9
        }
      ]
    },
    {
      "cell_type": "markdown",
      "source": [
        "4. What is the value of spam[-1]?"
      ],
      "metadata": {
        "id": "O73n9pj1maOt"
      }
    },
    {
      "cell_type": "code",
      "source": [
        "spam[-1] #spam[-1] means first element from last of list."
      ],
      "metadata": {
        "colab": {
          "base_uri": "https://localhost:8080/",
          "height": 35
        },
        "id": "98HAmRlzllai",
        "outputId": "0a8010f4-726b-4dfa-c0af-1666c39ef06d"
      },
      "execution_count": 10,
      "outputs": [
        {
          "output_type": "execute_result",
          "data": {
            "text/plain": [
              "'d'"
            ],
            "application/vnd.google.colaboratory.intrinsic+json": {
              "type": "string"
            }
          },
          "metadata": {},
          "execution_count": 10
        }
      ]
    },
    {
      "cell_type": "markdown",
      "source": [
        "5. What is the value of spam[:2]?"
      ],
      "metadata": {
        "id": "N0DMzGSSmsea"
      }
    },
    {
      "cell_type": "code",
      "source": [
        "spam[:2] # slicing list from o to 2 exluding 2 which is ['a'. 'b']"
      ],
      "metadata": {
        "colab": {
          "base_uri": "https://localhost:8080/",
          "height": 0
        },
        "id": "tj9rLJ73meHw",
        "outputId": "b21f8903-628e-4250-8455-9e941ea8d892"
      },
      "execution_count": 11,
      "outputs": [
        {
          "output_type": "execute_result",
          "data": {
            "text/plain": [
              "['a', 'b']"
            ]
          },
          "metadata": {},
          "execution_count": 11
        }
      ]
    },
    {
      "cell_type": "markdown",
      "source": [
        "## Let's pretend bacon has the list [3.14, 'cat,' 11, 'cat,' True] for the next three questions."
      ],
      "metadata": {
        "id": "4M_l4OhBnDJt"
      }
    },
    {
      "cell_type": "code",
      "source": [
        "bacon = [3.14, 'cat', 11, 'cat', True]"
      ],
      "metadata": {
        "id": "M6SrfAnhnO8D"
      },
      "execution_count": 19,
      "outputs": []
    },
    {
      "cell_type": "markdown",
      "source": [
        "6. What is the value of bacon.index('cat')?"
      ],
      "metadata": {
        "id": "yMq_LjAwnIl-"
      }
    },
    {
      "cell_type": "code",
      "source": [
        "bacon.index('cat') # since list indexing start from 0 so 'cat' is at Index 1 in list bacon"
      ],
      "metadata": {
        "colab": {
          "base_uri": "https://localhost:8080/",
          "height": 0
        },
        "id": "7BOgFykbnWZA",
        "outputId": "fa4251e1-d83a-48d8-a6a9-73b567521841"
      },
      "execution_count": 20,
      "outputs": [
        {
          "output_type": "execute_result",
          "data": {
            "text/plain": [
              "1"
            ]
          },
          "metadata": {},
          "execution_count": 20
        }
      ]
    },
    {
      "cell_type": "markdown",
      "source": [
        "7. How does bacon.append(99) change the look of the list value in bacon?"
      ],
      "metadata": {
        "id": "3aZSHOKwnlbl"
      }
    },
    {
      "cell_type": "code",
      "source": [
        "bacon.append(99) # append fucntion in list appends given value at the end of list\n",
        "print(bacon)"
      ],
      "metadata": {
        "colab": {
          "base_uri": "https://localhost:8080/",
          "height": 0
        },
        "id": "YnU_5VOwnXsh",
        "outputId": "5be8f69a-176d-47bf-c722-359b9175b0a0"
      },
      "execution_count": 21,
      "outputs": [
        {
          "output_type": "stream",
          "name": "stdout",
          "text": [
            "[3.14, 'cat', 11, 'cat', True, 99]\n"
          ]
        }
      ]
    },
    {
      "cell_type": "markdown",
      "source": [
        "8. How does bacon.remove('cat') change the look of the list in bacon?"
      ],
      "metadata": {
        "id": "bkbD3inXoGFD"
      }
    },
    {
      "cell_type": "code",
      "source": [
        "bacon.remove('cat') # The remove() function is used to remove the first item  \n",
        "                      # from a list whose value is equal to the specified value.\n",
        "print(bacon)"
      ],
      "metadata": {
        "colab": {
          "base_uri": "https://localhost:8080/",
          "height": 0
        },
        "id": "5FxFEbAVnoHj",
        "outputId": "3e92a0a4-cf6a-47be-a18e-df6ff1ba2c6e"
      },
      "execution_count": 22,
      "outputs": [
        {
          "output_type": "stream",
          "name": "stdout",
          "text": [
            "[3.14, 11, 'cat', True, 99]\n"
          ]
        }
      ]
    },
    {
      "cell_type": "markdown",
      "source": [
        "9. What are the list concatenation and list replication operators?"
      ],
      "metadata": {
        "id": "kEx6KfSbokFE"
      }
    },
    {
      "cell_type": "markdown",
      "source": [
        "> List Concatenation Operator: The '+' operator is used to concatenate two lists.\n",
        "> List Replication Operator: The '*' operator is used to replicate a list a certain number of times.\n",
        "\n",
        "\n",
        "\n",
        "\n",
        "\n",
        "\n",
        "\n"
      ],
      "metadata": {
        "id": "aNOVteLtozr8"
      }
    },
    {
      "cell_type": "markdown",
      "source": [
        "10. What is difference between the list methods append() and insert()?"
      ],
      "metadata": {
        "id": "aSREmNLGpTXU"
      }
    },
    {
      "cell_type": "markdown",
      "source": [
        "\n",
        "\n",
        "> While append() will add values only to the end of a list, insert() can add them anywhere in the list.\n",
        "\n"
      ],
      "metadata": {
        "id": "t9ApNs2ApTf6"
      }
    },
    {
      "cell_type": "markdown",
      "source": [
        "11. What are the two methods for removing items from a list?"
      ],
      "metadata": {
        "id": "aEi5WKRypaKO"
      }
    },
    {
      "cell_type": "markdown",
      "source": [
        "\n",
        "\n",
        "> The del statement and the remove() list method are two ways to remove values from a list.\n",
        "\n"
      ],
      "metadata": {
        "id": "nB-Cgwg5paiG"
      }
    },
    {
      "cell_type": "markdown",
      "source": [
        "12. Describe how list values and string values are identical."
      ],
      "metadata": {
        "id": "XNcL2K2VpaqJ"
      }
    },
    {
      "cell_type": "markdown",
      "source": [
        "\n",
        "\n",
        "> Both lists and strings can be passed to len(), have indexes and slices, be used in for loops, be concatenated or replicated, and be used with the in and not in operators.\n",
        "\n"
      ],
      "metadata": {
        "id": "uJsCIRu0pa0R"
      }
    },
    {
      "cell_type": "markdown",
      "source": [
        "13. What's the difference between tuples and lists?"
      ],
      "metadata": {
        "id": "2mXB5-YFqUEa"
      }
    },
    {
      "cell_type": "markdown",
      "source": [
        "\n",
        "\n",
        "> Tuples are immutable, meaning they can not be changed once they are created. They are also faster to create and search because they are immutable. Tuples use parentheses () while lists use square brackets []. Lists are mutable, meaning they can be changed once they are created. They can also be extended or reduced at any time, unlike tuples.\n",
        "\n"
      ],
      "metadata": {
        "id": "Chpa9hiOqUHM"
      }
    },
    {
      "cell_type": "markdown",
      "source": [
        "14. How do you type a tuple value that only contains the integer 42?"
      ],
      "metadata": {
        "id": "ODUUw5lwqUSb"
      }
    },
    {
      "cell_type": "code",
      "source": [
        "tuple_1 = (42)\n",
        "print(tuple_1)"
      ],
      "metadata": {
        "colab": {
          "base_uri": "https://localhost:8080/",
          "height": 0
        },
        "id": "EpZOIxQEoMj5",
        "outputId": "ba836dbb-1656-4ea8-e161-b673dbfe0f85"
      },
      "execution_count": 25,
      "outputs": [
        {
          "output_type": "stream",
          "name": "stdout",
          "text": [
            "42\n"
          ]
        }
      ]
    },
    {
      "cell_type": "markdown",
      "source": [
        "15. How do you get a list value's tuple form? How do you get a tuple value's list form?"
      ],
      "metadata": {
        "id": "VXycZCRJqUY9"
      }
    },
    {
      "cell_type": "markdown",
      "source": [
        "\n",
        "\n",
        "> To get a list value's tuple form, you can use the tuple() function. For example,my_list = [1, 2, 3]\n",
        "my_tuple = tuple(my_list)\n",
        "\n",
        "\n",
        "\n",
        "> To get a tuple value's list form, you can use the list() function. For example,my_tuple = (1, 2, 3)\n",
        "my_list = list(my_tuple)\n",
        "\n",
        "\n",
        "\n",
        "\n",
        "\n",
        "\n",
        "\n"
      ],
      "metadata": {
        "id": "DtTkPIDBrFre"
      }
    },
    {
      "cell_type": "code",
      "source": [
        "my_list = [1, 2, 3]\n",
        "my_tuple = tuple(my_list)\n",
        "print(my_tuple)\n",
        "print(type(my_tuple))"
      ],
      "metadata": {
        "colab": {
          "base_uri": "https://localhost:8080/",
          "height": 0
        },
        "id": "MIKXi4LQrP9t",
        "outputId": "8e64f857-bebe-404e-f8da-f6e1350a2313"
      },
      "execution_count": 28,
      "outputs": [
        {
          "output_type": "stream",
          "name": "stdout",
          "text": [
            "(1, 2, 3)\n",
            "<class 'tuple'>\n"
          ]
        }
      ]
    },
    {
      "cell_type": "code",
      "source": [
        "my_tuple = (1, 2, 3)\n",
        "my_list = list(my_tuple)\n",
        "print(my_list)\n",
        "print(type(my_list))"
      ],
      "metadata": {
        "colab": {
          "base_uri": "https://localhost:8080/",
          "height": 0
        },
        "id": "IHXpDQxcrhhH",
        "outputId": "6f8396c9-f5de-43b8-836b-3f88c5d4fdfe"
      },
      "execution_count": 29,
      "outputs": [
        {
          "output_type": "stream",
          "name": "stdout",
          "text": [
            "[1, 2, 3]\n",
            "<class 'list'>\n"
          ]
        }
      ]
    },
    {
      "cell_type": "markdown",
      "source": [
        "16. Variables that \"contain\" list values are not necessarily lists themselves. Instead, what do they contain?"
      ],
      "metadata": {
        "id": "At9W3atirF4u"
      }
    },
    {
      "cell_type": "markdown",
      "source": [
        "\n",
        "\n",
        "> A variable that contains list values contains references to the list objects.\n",
        "\n"
      ],
      "metadata": {
        "id": "joSOXXOsr_bi"
      }
    },
    {
      "cell_type": "markdown",
      "source": [
        "17. How do you distinguish between copy.copy() and copy.deepcopy()?"
      ],
      "metadata": {
        "id": "JmnpWNwer_eX"
      }
    },
    {
      "cell_type": "markdown",
      "source": [
        "\n",
        "\n",
        ">The copy.copy() function will do a shallow copy of a list, while the copy.deepcopy() function will do a deep copy of a list. That is, only copy.deepcopy() will duplicate any lists inside the list.\n",
        "\n"
      ],
      "metadata": {
        "id": "Gc5Vbbt4sAB4"
      }
    }
  ]
}